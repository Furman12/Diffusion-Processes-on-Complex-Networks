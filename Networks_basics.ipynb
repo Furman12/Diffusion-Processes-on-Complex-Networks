{
 "cells": [
  {
   "cell_type": "code",
   "execution_count": 1,
   "id": "2739387f",
   "metadata": {},
   "outputs": [],
   "source": [
    "import numpy as np"
   ]
  },
  {
   "cell_type": "code",
   "execution_count": 6,
   "id": "5f046085",
   "metadata": {},
   "outputs": [
    {
     "name": "stdout",
     "output_type": "stream",
     "text": [
      "[[0 1 1 1 1 1 0 0 0 0]\n",
      " [1 0 0 0 0 0 1 0 0 0]\n",
      " [1 0 0 1 0 1 0 0 0 0]\n",
      " [1 0 1 0 0 0 0 0 0 0]\n",
      " [1 0 0 0 0 1 0 0 0 0]\n",
      " [1 0 1 0 1 0 0 0 0 0]\n",
      " [0 1 0 0 0 0 0 1 1 1]\n",
      " [0 0 0 0 0 0 1 0 1 1]\n",
      " [0 0 0 0 0 0 1 1 0 1]\n",
      " [0 0 0 0 0 0 1 1 1 0]]\n"
     ]
    }
   ],
   "source": [
    "A = np.array([[0,1,1,1,1,1,0,0,0,0], \n",
    "          [1,0,0,0,0,0,1,0,0,0],\n",
    "          [1,0,0,1,0,1,0,0,0,0],\n",
    "          [1,0,1,0,0,0,0,0,0,0],\n",
    "          [1,0,0,0,0,1,0,0,0,0],\n",
    "          [1,0,1,0,1,0,0,0,0,0],\n",
    "          [0,1,0,0,0,0,0,1,1,1],\n",
    "          [0,0,0,0,0,0,1,0,1,1],\n",
    "          [0,0,0,0,0,0,1,1,0,1],\n",
    "          [0,0,0,0,0,0,1,1,1,0]])\n",
    "print(A)"
   ]
  },
  {
   "cell_type": "code",
   "execution_count": 7,
   "id": "62fc1848",
   "metadata": {},
   "outputs": [
    {
     "name": "stdout",
     "output_type": "stream",
     "text": [
      "[[1]\n",
      " [1]\n",
      " [1]\n",
      " [1]\n",
      " [1]\n",
      " [1]\n",
      " [1]\n",
      " [1]\n",
      " [1]\n",
      " [1]]\n"
     ]
    }
   ],
   "source": [
    "e = np.array([[1,1,1,1,1,1,1,1,1,1]]).transpose()\n",
    "print(e)"
   ]
  },
  {
   "cell_type": "markdown",
   "id": "c70932aa",
   "metadata": {},
   "source": [
    "### a) the vector k whose elements are the degrees ki of the nodes i = 1,2,3,...,N;"
   ]
  },
  {
   "cell_type": "markdown",
   "id": "c74bca9f",
   "metadata": {},
   "source": [
    "##### multiply the adjacency matrix with the e vektor "
   ]
  },
  {
   "cell_type": "code",
   "execution_count": 10,
   "id": "f70b80a1",
   "metadata": {},
   "outputs": [
    {
     "name": "stdout",
     "output_type": "stream",
     "text": [
      "[[5]\n",
      " [2]\n",
      " [3]\n",
      " [2]\n",
      " [2]\n",
      " [3]\n",
      " [4]\n",
      " [3]\n",
      " [3]\n",
      " [3]]\n"
     ]
    }
   ],
   "source": [
    "k = np.matmul(A,e)\n",
    "print(k)"
   ]
  },
  {
   "cell_type": "markdown",
   "id": "3f6068cb",
   "metadata": {},
   "source": [
    "### b) the total number L of links in the network"
   ]
  },
  {
   "cell_type": "markdown",
   "id": "c9fe3353",
   "metadata": {},
   "source": [
    "#### e * k^T, which gives the sum of all elements in the A matrix, that is the number of all edges"
   ]
  },
  {
   "cell_type": "code",
   "execution_count": 16,
   "id": "5882b4c6",
   "metadata": {},
   "outputs": [
    {
     "name": "stdout",
     "output_type": "stream",
     "text": [
      "[[15.]]\n"
     ]
    }
   ],
   "source": [
    "L = np.matmul(k.transpose(),e)/2\n",
    "print(L)"
   ]
  },
  {
   "cell_type": "markdown",
   "id": "48d17040",
   "metadata": {},
   "source": [
    "### c) the matrix N whoose element n_ij is equal to the number of common neighbors of nodes i and j"
   ]
  },
  {
   "cell_type": "code",
   "execution_count": 29,
   "id": "400af74f",
   "metadata": {},
   "outputs": [
    {
     "data": {
      "text/plain": [
       "array([[0, 1, 1, 1, 1, 1, 0, 0, 0, 0],\n",
       "       [1, 0, 0, 0, 0, 0, 1, 0, 0, 0],\n",
       "       [1, 0, 0, 1, 0, 1, 0, 0, 0, 0],\n",
       "       [1, 0, 1, 0, 0, 0, 0, 0, 0, 0],\n",
       "       [1, 0, 0, 0, 0, 1, 0, 0, 0, 0],\n",
       "       [1, 0, 1, 0, 1, 0, 0, 0, 0, 0],\n",
       "       [0, 1, 0, 0, 0, 0, 0, 1, 1, 1],\n",
       "       [0, 0, 0, 0, 0, 0, 1, 0, 1, 1],\n",
       "       [0, 0, 0, 0, 0, 0, 1, 1, 0, 1],\n",
       "       [0, 0, 0, 0, 0, 0, 1, 1, 1, 0]])"
      ]
     },
     "execution_count": 29,
     "metadata": {},
     "output_type": "execute_result"
    }
   ],
   "source": [
    "A"
   ]
  },
  {
   "cell_type": "code",
   "execution_count": 19,
   "id": "4d301f6d",
   "metadata": {},
   "outputs": [
    {
     "name": "stdout",
     "output_type": "stream",
     "text": [
      "[[5 0 2 1 1 2 1 0 0 0]\n",
      " [0 2 1 1 1 1 0 1 1 1]\n",
      " [2 1 3 1 2 1 0 0 0 0]\n",
      " [1 1 1 2 1 2 0 0 0 0]\n",
      " [1 1 2 1 2 1 0 0 0 0]\n",
      " [2 1 1 2 1 3 0 0 0 0]\n",
      " [1 0 0 0 0 0 4 2 2 2]\n",
      " [0 1 0 0 0 0 2 3 2 2]\n",
      " [0 1 0 0 0 0 2 2 3 2]\n",
      " [0 1 0 0 0 0 2 2 2 3]]\n"
     ]
    }
   ],
   "source": [
    "N = np.matmul(A,A.transpose())\n",
    "print(N)"
   ]
  },
  {
   "cell_type": "markdown",
   "id": "98739865",
   "metadata": {},
   "source": [
    "### d) The number of triangles T present in the network, where a triangle means three nodes, each connected by links to the other two (hint: trace of a matrix).\n"
   ]
  },
  {
   "cell_type": "markdown",
   "id": "dfef3468",
   "metadata": {},
   "source": [
    "There exists a theorem. Let A be an adjacency matrix, then A^k[i][j] gives you the number of paths, of length k from node i to node j. If you then calculate A^3 and look at the diagonal elements (i), those give you the number of paths from node i to itself of length 3, which are so called triangles. If you then account for all permutations, the answer is sum(trace(A^3)) / 6."
   ]
  },
  {
   "cell_type": "code",
   "execution_count": 28,
   "id": "4183bc5a",
   "metadata": {},
   "outputs": [
    {
     "name": "stdout",
     "output_type": "stream",
     "text": [
      "[[0 1 1 1 1 1 0 0 0 0]\n",
      " [1 0 0 0 0 0 1 0 0 0]\n",
      " [1 0 0 1 0 1 0 0 0 0]\n",
      " [1 0 1 0 0 0 0 0 0 0]\n",
      " [1 0 0 0 0 1 0 0 0 0]\n",
      " [1 0 1 0 1 0 0 0 0 0]\n",
      " [0 1 0 0 0 0 0 1 1 1]\n",
      " [0 0 0 0 0 0 1 0 1 1]\n",
      " [0 0 0 0 0 0 1 1 0 1]\n",
      " [0 0 0 0 0 0 1 1 1 0]]\n"
     ]
    }
   ],
   "source": [
    "print(A)"
   ]
  },
  {
   "cell_type": "code",
   "execution_count": 26,
   "id": "5f896523",
   "metadata": {},
   "outputs": [
    {
     "data": {
      "text/plain": [
       "array([[6, 6, 8, 7, 7, 8, 0, 1, 1, 1],\n",
       "       [6, 0, 2, 1, 1, 2, 5, 2, 2, 2],\n",
       "       [8, 2, 4, 5, 3, 7, 1, 0, 0, 0],\n",
       "       [7, 1, 5, 2, 3, 3, 1, 0, 0, 0],\n",
       "       [7, 1, 3, 3, 2, 5, 1, 0, 0, 0],\n",
       "       [8, 2, 7, 3, 5, 4, 1, 0, 0, 0],\n",
       "       [0, 5, 1, 1, 1, 1, 6, 8, 8, 8],\n",
       "       [1, 2, 0, 0, 0, 0, 8, 6, 7, 7],\n",
       "       [1, 2, 0, 0, 0, 0, 8, 7, 6, 7],\n",
       "       [1, 2, 0, 0, 0, 0, 8, 7, 7, 6]])"
      ]
     },
     "execution_count": 26,
     "metadata": {},
     "output_type": "execute_result"
    }
   ],
   "source": [
    "np.linalg.matrix_power(A, 3)"
   ]
  },
  {
   "cell_type": "code",
   "execution_count": 24,
   "id": "6ad35d22",
   "metadata": {},
   "outputs": [
    {
     "name": "stdout",
     "output_type": "stream",
     "text": [
      "7.0\n"
     ]
    }
   ],
   "source": [
    "T = np.trace(np.linalg.matrix_power(A, 3))/6\n",
    "print(T)"
   ]
  },
  {
   "cell_type": "markdown",
   "id": "bce15bb5",
   "metadata": {},
   "source": [
    "### e)"
   ]
  },
  {
   "cell_type": "markdown",
   "id": "3297378b",
   "metadata": {},
   "source": [
    "#### if matrix is irreduceble then matrix is fully connected\n"
   ]
  },
  {
   "cell_type": "code",
   "execution_count": null,
   "id": "11343b0b",
   "metadata": {},
   "outputs": [],
   "source": []
  }
 ],
 "metadata": {
  "kernelspec": {
   "display_name": "Python 3 (ipykernel)",
   "language": "python",
   "name": "python3"
  },
  "language_info": {
   "codemirror_mode": {
    "name": "ipython",
    "version": 3
   },
   "file_extension": ".py",
   "mimetype": "text/x-python",
   "name": "python",
   "nbconvert_exporter": "python",
   "pygments_lexer": "ipython3",
   "version": "3.9.12"
  }
 },
 "nbformat": 4,
 "nbformat_minor": 5
}
